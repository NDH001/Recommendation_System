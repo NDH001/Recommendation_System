{
 "cells": [
  {
   "cell_type": "code",
   "execution_count": 4,
   "id": "c3ea5698",
   "metadata": {
    "pycharm": {
     "is_executing": true
    }
   },
   "outputs": [
    {
     "name": "stdout",
     "output_type": "stream",
     "text": [
      "16784\n"
     ]
    }
   ],
   "source": [
    "import pandas as pd\n",
    "import numpy as np\n",
    "from sklearn.metrics.pairwise import cosine_similarity\n",
    "from sklearn.feature_extraction.text import CountVectorizer\n",
    "import random\n",
    "import task2_manual\n",
    "import task2_cossim\n",
    "\n",
    "\n",
    "df = pd.read_csv('train_clean_manual.csv')\n",
    "print(len(df))"
   ]
  },
  {
   "cell_type": "code",
   "execution_count": 8,
   "id": "a8c11f1a",
   "metadata": {
    "pycharm": {
     "is_executing": true
    }
   },
   "outputs": [
    {
     "name": "stdout",
     "output_type": "stream",
     "text": [
      "Top 10 suggestions Related to index: 1111 - Volkswagen Scirocco 1.4A TSI \n",
      "\n",
      "10463                Volkswagen Scirocco R 2.0A \n",
      "6408                     Toyota Vellfire 2.4A V \n",
      "908                  Volkswagen Touran 1.4A TSI \n",
      "2475                   Toyota Voxy Hybrid 1.8A V\n",
      "5841     Volkswagen Scirocco GP 1.4A TSI Sunroof\n",
      "12961           Volkswagen Scirocco GT 2.0A TSI \n",
      "319                    Toyota Voxy Hybrid 1.8A V\n",
      "828        Volkswagen Scirocco 1.4A TSI Sunroof \n",
      "11220              Toyota C-HR Hybrid 1.8A S LED\n",
      "9792                          Nissan Sylphy 1.6A\n",
      "Name: title, dtype: object\n"
     ]
    }
   ],
   "source": [
    "index = random.randint(0, len(df))\n",
    "target = df.iloc[index]\n",
    "title = target.title\n",
    "\n",
    "manual_res = df.iloc[task2_manual.related(target)]\n",
    "\n",
    "\n",
    "cossim_res = df[df.listing_id.isin(task2_cossim.cossim(title))]\n",
    "\n",
    "ans = pd.concat([cossim_res, manual_res])\n",
    "\n",
    "ans = ans.sample(frac=1)\n",
    "\n",
    "\n",
    "print(f\"Top 10 suggestions Related to index: {index} - {title}\\n\")\n",
    "print(ans['title'])"
   ]
  },
  {
   "cell_type": "code",
   "execution_count": null,
   "id": "b96472f2",
   "metadata": {},
   "outputs": [],
   "source": []
  }
 ],
 "metadata": {
  "kernelspec": {
   "display_name": "Python 3 (ipykernel)",
   "language": "python",
   "name": "python3"
  },
  "language_info": {
   "codemirror_mode": {
    "name": "ipython",
    "version": 3
   },
   "file_extension": ".py",
   "mimetype": "text/x-python",
   "name": "python",
   "nbconvert_exporter": "python",
   "pygments_lexer": "ipython3",
   "version": "3.7.10"
  }
 },
 "nbformat": 4,
 "nbformat_minor": 5
}