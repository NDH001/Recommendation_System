{
 "cells": [
  {
   "cell_type": "code",
   "execution_count": 1,
   "id": "c3ea5698",
   "metadata": {
    "pycharm": {
     "is_executing": true
    }
   },
   "outputs": [
    {
     "name": "stdout",
     "output_type": "stream",
     "text": [
      "16784\n"
     ]
    }
   ],
   "source": [
    "import pandas as pd\n",
    "import numpy as np\n",
    "from sklearn.metrics.pairwise import cosine_similarity\n",
    "from sklearn.feature_extraction.text import CountVectorizer\n",
    "import random\n",
    "import task2_manual\n",
    "import task2_cossim\n",
    "\n",
    "\n",
    "df = pd.read_csv('train_clean_manual.csv')\n",
    "print(len(df))"
   ]
  },
  {
   "cell_type": "code",
   "execution_count": 6,
   "id": "a8c11f1a",
   "metadata": {
    "pycharm": {
     "is_executing": true
    }
   },
   "outputs": [
    {
     "name": "stderr",
     "output_type": "stream",
     "text": [
      "e:\\python3.6.8\\lib\\site-packages\\pandas\\core\\generic.py:5170: SettingWithCopyWarning: \n",
      "A value is trying to be set on a copy of a slice from a DataFrame.\n",
      "Try using .loc[row_indexer,col_indexer] = value instead\n",
      "\n",
      "See the caveats in the documentation: https://pandas.pydata.org/pandas-docs/stable/user_guide/indexing.html#returning-a-view-versus-a-copy\n",
      "  self[name] = value\n",
      "C:\\Users\\vec_kiina\\Desktop\\CS5228\\task2_new\\task2\\task2_manual.py:58: UserWarning: Pandas doesn't allow columns to be created via a new attribute name - see https://pandas.pydata.org/pandas-docs/stable/indexing.html#attribute-access\n",
      "  parts.no_pf_owners = parts['no_of_owners'].apply(owners_abs)\n"
     ]
    },
    {
     "name": "stdout",
     "output_type": "stream",
     "text": [
      "Top 10 suggestions Related to index: 221 - Hino XZU710R\n",
      "\n",
      "11188                              Volvo S60 T4\n",
      "1724                               Isuzu NHR87A\n",
      "4419                               Nissan Atlas\n",
      "4737                          Toyota Hiace 3.0M\n",
      "4620                Mitsubishi Lancer 1.6M GLX \n",
      "0        BMW 3 Series 320i Gran Turismo M-Sport\n",
      "6474            Lexus CT Hybrid CT200h Premium \n",
      "378                                Hino XZU710R\n",
      "3765                                Isuzu FRR90\n",
      "271                               Hino SH1EEKA \n",
      "Name: title, dtype: object\n"
     ]
    }
   ],
   "source": [
    "index = random.randint(0, len(df))\n",
    "target = df.iloc[index]\n",
    "title = target.title\n",
    "\n",
    "manual_res = df.iloc[task2_manual.related(target)]\n",
    "\n",
    "\n",
    "cossim_res = df[df.listing_id.isin(task2_cossim.cossim(title))]\n",
    "\n",
    "ans = pd.concat([cossim_res, manual_res])\n",
    "\n",
    "ans = ans.sample(frac=1)\n",
    "\n",
    "\n",
    "print(f\"Top 10 suggestions Related to index: {index} - {title}\\n\")\n",
    "print(ans['title'])"
   ]
  },
  {
   "cell_type": "code",
   "execution_count": null,
   "id": "b96472f2",
   "metadata": {},
   "outputs": [],
   "source": []
  }
 ],
 "metadata": {
  "kernelspec": {
   "display_name": "Python 3",
   "language": "python",
   "name": "python3"
  },
  "language_info": {
   "codemirror_mode": {
    "name": "ipython",
    "version": 3
   },
   "file_extension": ".py",
   "mimetype": "text/x-python",
   "name": "python",
   "nbconvert_exporter": "python",
   "pygments_lexer": "ipython3",
   "version": "3.6.8"
  }
 },
 "nbformat": 4,
 "nbformat_minor": 5
}
