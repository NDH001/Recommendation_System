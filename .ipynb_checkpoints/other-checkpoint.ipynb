{
 "cells": [
  {
   "cell_type": "code",
   "execution_count": 1,
   "metadata": {},
   "outputs": [],
   "source": [
    "import pandas as pd\n",
    "from sklearn.metrics.pairwise import cosine_similarity\n",
    "from sklearn.feature_extraction.text import CountVectorizer\n",
    "import random\n",
    "\n",
    "\n",
    "def cossim(title):\n",
    "    train_df = pd.read_csv('train_clean_cossim.csv')\n",
    "    train_df = train_df.rename(columns={'Unnamed: 0': 'index'})\n",
    "\n",
    "    def get_important_features(data):\n",
    "        important_features = []\n",
    "\n",
    "        for i in range(data.shape[0]):\n",
    "            temp = \"\"\n",
    "            for column in data:\n",
    "                temp = temp + data[column][i]\n",
    "            important_features.append(temp)\n",
    "        return important_features\n",
    "\n",
    "    temp = train_df.iloc[:, 2:-1]\n",
    "    train_df['important_features'] = get_important_features(temp)\n",
    "    cm = CountVectorizer().fit_transform(train_df['important_features'])\n",
    "    cs = cosine_similarity(cm)\n",
    "    car_selected = title\n",
    "    car_id = train_df[train_df.title == car_selected]['index'].values[0]\n",
    "    scores = list(enumerate(cs[car_id]))\n",
    "    sorted_scores = sorted(scores,key = lambda x:x[1],reverse = True)\n",
    "    sorted_scores = sorted_scores[1:]\n",
    "    all_car = []\n",
    "    all_car_id = []\n",
    "    for item in sorted_scores:\n",
    "        car_listing = train_df[train_df.index == item[0]]['listing_id'].values[0]\n",
    "        temp = train_df.loc[train_df['listing_id'] == car_listing, 'title'].iloc[0]\n",
    "        if temp not in all_car:\n",
    "            all_car.append(temp)\n",
    "            all_car_id.append(car_listing)\n",
    "        if len(all_car) ==10:\n",
    "            break\n",
    "    suggested_listing = random.sample(all_car_id, 5)\n",
    "\n",
    "    return suggested_listing"
   ]
  },
  {
   "cell_type": "code",
   "execution_count": 3,
   "metadata": {},
   "outputs": [
    {
     "name": "stdout",
     "output_type": "stream",
     "text": [
      "16784\n"
     ]
    },
    {
     "ename": "NameError",
     "evalue": "name 'task2_manual' is not defined",
     "output_type": "error",
     "traceback": [
      "\u001b[1;31m---------------------------------------------------------------------------\u001b[0m",
      "\u001b[1;31mNameError\u001b[0m                                 Traceback (most recent call last)",
      "\u001b[1;32m~\\AppData\\Local\\Temp/ipykernel_10724/1640704447.py\u001b[0m in \u001b[0;36m<module>\u001b[1;34m\u001b[0m\n\u001b[0;32m      5\u001b[0m \u001b[0mtitle\u001b[0m \u001b[1;33m=\u001b[0m \u001b[0mtarget\u001b[0m\u001b[1;33m.\u001b[0m\u001b[0mtitle\u001b[0m\u001b[1;33m\u001b[0m\u001b[1;33m\u001b[0m\u001b[0m\n\u001b[0;32m      6\u001b[0m \u001b[1;33m\u001b[0m\u001b[0m\n\u001b[1;32m----> 7\u001b[1;33m \u001b[0mmanual_res\u001b[0m \u001b[1;33m=\u001b[0m \u001b[0mdf\u001b[0m\u001b[1;33m.\u001b[0m\u001b[0miloc\u001b[0m\u001b[1;33m[\u001b[0m\u001b[0mtask2_manual\u001b[0m\u001b[1;33m.\u001b[0m\u001b[0mrelated\u001b[0m\u001b[1;33m(\u001b[0m\u001b[0mtarget\u001b[0m\u001b[1;33m)\u001b[0m\u001b[1;33m]\u001b[0m\u001b[1;33m\u001b[0m\u001b[1;33m\u001b[0m\u001b[0m\n\u001b[0m\u001b[0;32m      8\u001b[0m \u001b[1;33m\u001b[0m\u001b[0m\n\u001b[0;32m      9\u001b[0m \u001b[1;33m\u001b[0m\u001b[0m\n",
      "\u001b[1;31mNameError\u001b[0m: name 'task2_manual' is not defined"
     ]
    }
   ],
   "source": [
    "df = pd.read_csv('train_clean_manual.csv')\n",
    "print(len(df))\n",
    "index = random.randint(0, len(df))\n",
    "target = df.iloc[index]\n",
    "title = target.title\n",
    "\n",
    "\n",
    "cossim_res = df[df.listing_id.isin(task2_cossim.cossim(title))]"
   ]
  },
  {
   "cell_type": "code",
   "execution_count": null,
   "metadata": {},
   "outputs": [],
   "source": []
  }
 ],
 "metadata": {
  "kernelspec": {
   "display_name": "Python 3 (ipykernel)",
   "language": "python",
   "name": "python3"
  },
  "language_info": {
   "codemirror_mode": {
    "name": "ipython",
    "version": 3
   },
   "file_extension": ".py",
   "mimetype": "text/x-python",
   "name": "python",
   "nbconvert_exporter": "python",
   "pygments_lexer": "ipython3",
   "version": "3.7.10"
  }
 },
 "nbformat": 4,
 "nbformat_minor": 1
}
